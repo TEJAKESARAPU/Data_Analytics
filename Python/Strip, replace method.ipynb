{
 "cells": [
  {
   "cell_type": "code",
   "execution_count": 16,
   "id": "1bf2bea2-29e4-4754-9fe3-657aa8aca1af",
   "metadata": {},
   "outputs": [
    {
     "name": "stdout",
     "output_type": "stream",
     "text": [
      "harat\n"
     ]
    }
   ],
   "source": [
    "#Using array printed the desired output\n",
    "\n",
    "name = 'bharat'\n",
    "print(name[1:6])"
   ]
  },
  {
   "cell_type": "code",
   "execution_count": 17,
   "id": "1b148241-2def-4c3e-9620-bb25c90e591a",
   "metadata": {},
   "outputs": [
    {
     "name": "stdout",
     "output_type": "stream",
     "text": [
      "dabredyh\n"
     ]
    }
   ],
   "source": [
    "#Using the array concept printed the object in reverse order\n",
    "\n",
    "name = 'hyderbad'\n",
    "print(name[-1:-10:-1])"
   ]
  },
  {
   "cell_type": "code",
   "execution_count": 18,
   "id": "43fbe78d-7cd6-4de6-93fc-7a01df90b8a2",
   "metadata": {},
   "outputs": [
    {
     "name": "stdout",
     "output_type": "stream",
     "text": [
      "nhr\n"
     ]
    }
   ],
   "source": [
    "name = 'rohan'\n",
    "print(name[-1:-6:-2])"
   ]
  },
  {
   "cell_type": "code",
   "execution_count": 19,
   "id": "839bb055-c818-4ccc-92e6-a83790640348",
   "metadata": {},
   "outputs": [
    {
     "name": "stdout",
     "output_type": "stream",
     "text": [
      "Rahulgandhi\n"
     ]
    }
   ],
   "source": [
    "#Using the replace method removed the space between the Rahul gandhi\n",
    "\n",
    "name='Rahul gandhi'\n",
    "print(name.replace(' ',''))"
   ]
  },
  {
   "cell_type": "code",
   "execution_count": 20,
   "id": "534fd577-c42e-44c8-a37a-57afcb8fb34a",
   "metadata": {},
   "outputs": [
    {
     "name": "stdout",
     "output_type": "stream",
     "text": [
      "rahul\n"
     ]
    }
   ],
   "source": [
    "#Using the srtip concept removed the left spacing using lstrip \n",
    "\n",
    "name = '  rahul'\n",
    "print(name.lstrip())"
   ]
  },
  {
   "cell_type": "code",
   "execution_count": 21,
   "id": "4cb804ae-605b-4e89-a691-a3c1d949f508",
   "metadata": {},
   "outputs": [
    {
     "name": "stdout",
     "output_type": "stream",
     "text": [
      "Ram\n"
     ]
    }
   ],
   "source": [
    "#Using the replace method removed the space between the Object\n",
    "\n",
    "name='R  a  m'\n",
    "print(name.replace(' ',''))"
   ]
  },
  {
   "cell_type": "code",
   "execution_count": 22,
   "id": "f4e87959-dcf5-44aa-a26c-d378d477b84a",
   "metadata": {},
   "outputs": [
    {
     "name": "stdout",
     "output_type": "stream",
     "text": [
      "ram\n"
     ]
    }
   ],
   "source": [
    "#Using the strip method removed the space between the object\n",
    "\n",
    "name='   ram   '\n",
    "print(name.strip())"
   ]
  },
  {
   "cell_type": "code",
   "execution_count": 23,
   "id": "e156af6d-427d-4969-a988-18af5187402a",
   "metadata": {},
   "outputs": [
    {
     "name": "stdout",
     "output_type": "stream",
     "text": [
      "ram\n"
     ]
    }
   ],
   "source": [
    "#Using the srtip concept removed the right spacing using lstrip \n",
    "\n",
    "name='ram   '\n",
    "print(name.rstrip())"
   ]
  },
  {
   "cell_type": "code",
   "execution_count": 24,
   "id": "d98e38e2-8080-4db1-ba5b-0071091d4641",
   "metadata": {},
   "outputs": [
    {
     "name": "stdout",
     "output_type": "stream",
     "text": [
      "ram\n"
     ]
    }
   ],
   "source": [
    "#Using the replace method removed the space between the object\n",
    "\n",
    "name='   r   a   m   '\n",
    "print(name.replace(' ',''))"
   ]
  },
  {
   "cell_type": "code",
   "execution_count": 25,
   "id": "99c54b28-ad5c-499a-856d-dc62440231c5",
   "metadata": {},
   "outputs": [
    {
     "name": "stdout",
     "output_type": "stream",
     "text": [
      "rohit\n"
     ]
    }
   ],
   "source": [
    "#Using the replace method replaced m to r\n",
    "\n",
    "\n",
    "name='mohit'\n",
    "print(name.replace('m', 'r'))"
   ]
  },
  {
   "cell_type": "code",
   "execution_count": 26,
   "id": "c1d6f1b9-0e8a-4631-8392-292c4a419c03",
   "metadata": {},
   "outputs": [
    {
     "name": "stdout",
     "output_type": "stream",
     "text": [
      "MOHIT\n",
      "mohit\n"
     ]
    }
   ],
   "source": [
    "#Using the Upper and Lower functions prined the variable as desired\n",
    "\n",
    "name='moHiT'\n",
    "print(name.upper())\n",
    "print(name.lower())"
   ]
  },
  {
   "cell_type": "code",
   "execution_count": 27,
   "id": "fdd3e3a4-8c06-42b1-bafc-2544ddc216ac",
   "metadata": {},
   "outputs": [
    {
     "name": "stdout",
     "output_type": "stream",
     "text": [
      "rahul gandhi\n",
      "rahul rahul rahul \n"
     ]
    }
   ],
   "source": [
    "a='rahul'\n",
    "b='gandhi'\n",
    "print(a,b)\n",
    "print((a+\" \")*3)"
   ]
  },
  {
   "cell_type": "code",
   "execution_count": 28,
   "id": "3c7732cb-d6bb-4e6c-90cb-32f1e5e0093f",
   "metadata": {},
   "outputs": [
    {
     "name": "stdout",
     "output_type": "stream",
     "text": [
      "True\n"
     ]
    }
   ],
   "source": [
    "print(10>8)"
   ]
  },
  {
   "cell_type": "code",
   "execution_count": 29,
   "id": "51aed078-8fde-4030-b0ce-63bffce5d131",
   "metadata": {},
   "outputs": [
    {
     "name": "stdout",
     "output_type": "stream",
     "text": [
      "True\n"
     ]
    }
   ],
   "source": [
    "print('abbas' > 'aatman')"
   ]
  }
 ],
 "metadata": {
  "kernelspec": {
   "display_name": "base",
   "language": "python",
   "name": "python3"
  },
  "language_info": {
   "codemirror_mode": {
    "name": "ipython",
    "version": 3
   },
   "file_extension": ".py",
   "mimetype": "text/x-python",
   "name": "python",
   "nbconvert_exporter": "python",
   "pygments_lexer": "ipython3",
   "version": "3.13.5"
  }
 },
 "nbformat": 4,
 "nbformat_minor": 5
}
