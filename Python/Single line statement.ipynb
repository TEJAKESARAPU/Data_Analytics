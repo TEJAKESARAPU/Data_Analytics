{
 "cells": [
  {
   "cell_type": "code",
   "execution_count": null,
   "id": "14bd0a05-0a8b-4d0f-b930-07d8ac2b038d",
   "metadata": {},
   "outputs": [
    {
     "name": "stdout",
     "output_type": "stream",
     "text": [
      "My name is Teja and I came from Vizag to Hyderabad for Data Analytics course which is in beside jntu metro station. At present I stay at KPHB and I travel by daily 2km by Bike because it saves me more money on fuel.\n"
     ]
    }
   ],
   "source": [
    "# using input and data types created a single sentence user input code\n",
    "\n",
    "name = input('Enter your name: ')\n",
    "hometown = input('Enter your hometowm: ')\n",
    "current_city = input('Enter your current city: ')\n",
    "current_place = input('Enter your current place: ')\n",
    "purpose_of_visit = input('What is the purpose of your visit?: ')\n",
    "mode_of_transport = input('What is your mode of transport?: ')\n",
    "work_place = input('What is your work place?: ')\n",
    "work_place_distance = int(input('How much distance do you travel from your current place to your work place'))\n",
    "\n",
    "print(f'My name is {name} and I came from {hometown} to {current_city} for {purpose_of_visit} which is in {work_place}. At present I stay at {current_place} and I travel by daily {work_place_distance}km by {mode_of_transport} because it saves me more money on fuel.')"
   ]
  },
  {
   "cell_type": "code",
   "execution_count": null,
   "id": "cc5d2289-764c-4a66-b12e-a4ce2463647d",
   "metadata": {},
   "outputs": [],
   "source": []
  }
 ],
 "metadata": {
  "kernelspec": {
   "display_name": "base",
   "language": "python",
   "name": "python3"
  },
  "language_info": {
   "codemirror_mode": {
    "name": "ipython",
    "version": 3
   },
   "file_extension": ".py",
   "mimetype": "text/x-python",
   "name": "python",
   "nbconvert_exporter": "python",
   "pygments_lexer": "ipython3",
   "version": "3.13.5"
  }
 },
 "nbformat": 4,
 "nbformat_minor": 5
}
